{
 "cells": [
  {
   "cell_type": "code",
   "execution_count": null,
   "metadata": {},
   "outputs": [],
   "source": [
    "\"\"\"5\n",
    "Programmable turtle graphics\n",
    "\n",
    "Use what you've learned about lists, loop, cycle, slice and zip to draw a pattern\n",
    "NOOOOOOOO\n",
    "\"\"\"\n",
    "import turtle                           # Tell Python we want to work with the turtle\n",
    "turtle.setup (width=600, height=600)    # Set the size of the window\n",
    "\n",
    "t =  turtle.Turtle()                  # Create a turtle named tina\n",
    "\n",
    "t.shape('turtle')                    # Set the shape of the turtle to a turtle\n",
    "t.speed(2)     # Create a turtle like in previous programs, like 04_Crazy_Tina.py\n",
    "\n",
    "colors = [\"red\", \"blue\", \"green\", \"purple\"]# Make a list of colors\n",
    "\n",
    "directions = [ # Create a list of directions and angles\n",
    "    ( 50, 100, ),\n",
    "    ( 50, 100, ),\n",
    "    ( 50, 100, ), ... # Add more\n",
    "]\n",
    "\n",
    "# Zip the colors and directions together, then unpack them. THere is a good example of this\n",
    "# in 10_More_iterables.ipynb in the discussion of zip()\n",
    "\n",
    "for t.color, t.forward, t.left in zip(t.color , t.forward):\n",
    "    t.color( \"orange\" ) \n",
    "    t.forward(60)\n",
    "    t.left(50)\n",
    "\n",
    "\n",
    "turtle.exitonclick()\n",
    "# Don't forget the special way to end a turtle program. \n"
   ]
  }
 ],
 "metadata": {
  "language_info": {
   "name": "python"
  }
 },
 "nbformat": 4,
 "nbformat_minor": 2
}
